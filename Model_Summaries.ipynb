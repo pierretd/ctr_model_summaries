{
  "nbformat": 4,
  "nbformat_minor": 0,
  "metadata": {
    "colab": {
      "name": "Model Summaries.ipynb",
      "version": "0.3.2",
      "provenance": []
    },
    "language_info": {
      "codemirror_mode": {
        "name": "ipython",
        "version": 3
      },
      "file_extension": ".py",
      "mimetype": "text/x-python",
      "name": "python",
      "nbconvert_exporter": "python",
      "pygments_lexer": "ipython3",
      "version": "3.6.5"
    },
    "kernelspec": {
      "display_name": "Python 3",
      "language": "python",
      "name": "python3"
    }
  },
  "cells": [
    {
      "cell_type": "markdown",
      "metadata": {
        "id": "co0vwNOWLlYB",
        "colab_type": "text"
      },
      "source": [
        "# Model Summaries"
      ]
    },
    {
      "cell_type": "markdown",
      "metadata": {
        "id": "j2oPBgALLlYD",
        "colab_type": "text"
      },
      "source": [
        "### ROC Curve"
      ]
    },
    {
      "cell_type": "markdown",
      "metadata": {
        "id": "-AsPyn1KYQWN",
        "colab_type": "text"
      },
      "source": [
        "![alt text](https://i.ibb.co/4FCd4w9/download-5.png)"
      ]
    },
    {
      "cell_type": "markdown",
      "metadata": {
        "id": "TLDDMgLWdXfd",
        "colab_type": "text"
      },
      "source": [
        "![alt text](https://i.ibb.co/NFvMTLB/download-6.png)"
      ]
    },
    {
      "cell_type": "markdown",
      "metadata": {
        "id": "RymElYWgu5dE",
        "colab_type": "text"
      },
      "source": [
        "![alt text](https://i.ibb.co/VWH4Qz0/download-27.png://)"
      ]
    },
    {
      "cell_type": "markdown",
      "metadata": {
        "id": "9FQFdYZk3q8w",
        "colab_type": "text"
      },
      "source": [
        "![alt text](https://i.ibb.co/jVrcXDh/download-29.png://)"
      ]
    },
    {
      "cell_type": "markdown",
      "metadata": {
        "id": "UQsvXRsxf83M",
        "colab_type": "text"
      },
      "source": [
        "### ROC Statistics"
      ]
    },
    {
      "cell_type": "markdown",
      "metadata": {
        "id": "pFR9s098PQoS",
        "colab_type": "text"
      },
      "source": [
        "**Logistic Regression**\n",
        "\n",
        "Average ROC: .77\n",
        "\n",
        "ROC at 10% FPR: . 37"
      ]
    },
    {
      "cell_type": "markdown",
      "metadata": {
        "id": "3rpvwtkoe39n",
        "colab_type": "text"
      },
      "source": [
        "**Random Forest**\n",
        "\n",
        "Average ROC: .76\n",
        "\n",
        "ROC at 10% FPR: . 38"
      ]
    },
    {
      "cell_type": "markdown",
      "metadata": {
        "id": "Y8UWWOhopton",
        "colab_type": "text"
      },
      "source": [
        "**Decision Tree**\n",
        "\n",
        "Average ROC: .70\n",
        "\n",
        "ROC at 10% FPR: . 32"
      ]
    },
    {
      "cell_type": "markdown",
      "metadata": {
        "id": "1tp0b-CRptzX",
        "colab_type": "text"
      },
      "source": [
        "**GBC**\n",
        "\n",
        "Average ROC: .72\n",
        "\n",
        "ROC at 10% FPR: . 37"
      ]
    },
    {
      "cell_type": "markdown",
      "metadata": {
        "id": "GqTASFoygAbv",
        "colab_type": "text"
      },
      "source": [
        "### PRC"
      ]
    },
    {
      "cell_type": "markdown",
      "metadata": {
        "id": "hXlUqjb3WLNk",
        "colab_type": "text"
      },
      "source": [
        "![alt text](https://i.ibb.co/vP68Hs7/download-3.png)"
      ]
    },
    {
      "cell_type": "markdown",
      "metadata": {
        "id": "F3Clct8udjXb",
        "colab_type": "text"
      },
      "source": [
        "![alt text](https://i.ibb.co/q5nTTPd/download-23.png)"
      ]
    },
    {
      "cell_type": "markdown",
      "metadata": {
        "id": "H8bd2LR4ux1h",
        "colab_type": "text"
      },
      "source": [
        "![alt text](https://i.ibb.co/WHq6HHK/download-28.png)"
      ]
    },
    {
      "cell_type": "markdown",
      "metadata": {
        "id": "5hFe4SmK3zkh",
        "colab_type": "text"
      },
      "source": [
        "![alt text](https://i.ibb.co/Gnzbs1Q/download-30.png://)"
      ]
    },
    {
      "cell_type": "markdown",
      "metadata": {
        "id": "kMlGLiinLlYJ",
        "colab_type": "text"
      },
      "source": [
        "### MAE"
      ]
    },
    {
      "cell_type": "markdown",
      "metadata": {
        "id": "WhRspZc2UorP",
        "colab_type": "text"
      },
      "source": [
        "**Logistic Regression** Mean Absolute Error: 0.23\n",
        "\n",
        "**Random Forest** Mean Absolute Error: 0.21\n",
        "\n",
        "**Decision Tree Mean** Mean Absolute Error: 0.21\n",
        "\n",
        "**GBC** Mean Absolute Error: .26"
      ]
    },
    {
      "cell_type": "markdown",
      "metadata": {
        "id": "1xG2xYcrLlYL",
        "colab_type": "text"
      },
      "source": [
        "### RMSE"
      ]
    },
    {
      "cell_type": "markdown",
      "metadata": {
        "id": "w0VHwV47U7wM",
        "colab_type": "text"
      },
      "source": [
        "**Logistic Regression** Root Mean Sqaured Error: 0.01\n",
        "\n",
        "**Random Forest** Root Mean Sqaured Error: 0.01\n",
        "\n",
        "**Decision Tree** Root Mean Sqaured Error: 0.01\n",
        "\n",
        "**GBC** Root Mean Sqaured Error: 0.01\n"
      ]
    },
    {
      "cell_type": "markdown",
      "metadata": {
        "id": "rn5-8L0LLlYN",
        "colab_type": "text"
      },
      "source": [
        "### Classification Report"
      ]
    },
    {
      "cell_type": "markdown",
      "metadata": {
        "id": "1PIfAtCQUNgy",
        "colab_type": "text"
      },
      "source": [
        "**Logistic Regression**\n",
        "\n",
        "                       precision    recall  f1-score   support\n",
        "\n",
        "           No Click       0.86      0.99      0.92     25495\n",
        "           Click          0.59      0.10      0.16      4505\n",
        "\n",
        "   "
      ]
    },
    {
      "cell_type": "markdown",
      "metadata": {
        "id": "J4ChF0TmfXxj",
        "colab_type": "text"
      },
      "source": [
        "**Random Forest**                 \n",
        "                 \n",
        "                       precision    recall  f1-score   support\n",
        "\n",
        "           No Click       0.86      0.98      0.92     25495\n",
        "           Click          0.53      0.13      0.21      4505"
      ]
    },
    {
      "cell_type": "markdown",
      "metadata": {
        "id": "OK-rtBFxtjGF",
        "colab_type": "text"
      },
      "source": [
        "**Decision Tree**     \n",
        "     \n",
        "                     precision    recall  f1-score   support\n",
        "\n",
        "          No Click       0.87      0.97      0.91     25495\n",
        "          Click          0.45      0.15      0.23      4505"
      ]
    },
    {
      "cell_type": "markdown",
      "metadata": {
        "id": "qeO32yi74Ckh",
        "colab_type": "text"
      },
      "source": [
        "**GBC**\n",
        "\n",
        "                       precision    recall  f1-score   support\n",
        "\n",
        "           No Click       0.83      0.99      0.90      8202\n",
        "           Click          0.59      0.10      0.17      1798"
      ]
    },
    {
      "cell_type": "markdown",
      "metadata": {
        "id": "QRrwdkKAWEzM",
        "colab_type": "text"
      },
      "source": [
        "### Confusion Matrix"
      ]
    },
    {
      "cell_type": "markdown",
      "metadata": {
        "id": "wQZs9r_mYKso",
        "colab_type": "text"
      },
      "source": [
        "**Logistic Regression**\n",
        "\n",
        "![alt text](https://i.ibb.co/DDyKbQC/download-4.png)"
      ]
    },
    {
      "cell_type": "markdown",
      "metadata": {
        "id": "3ua7STIOeo0f",
        "colab_type": "text"
      },
      "source": [
        "**Random Forest**\n",
        "\n",
        "![alt text](https://i.ibb.co/bRhkGXT/download-9.png)"
      ]
    },
    {
      "cell_type": "markdown",
      "metadata": {
        "id": "MmF7zjjEpxez",
        "colab_type": "text"
      },
      "source": [
        "**Decision Tree**\n",
        "\n",
        "![alt text](https://i.ibb.co/xhg0kn6/download-26.png)"
      ]
    },
    {
      "cell_type": "markdown",
      "metadata": {
        "id": "dWBy9PibpxS0",
        "colab_type": "text"
      },
      "source": [
        "**GBC**\n",
        "\n",
        "![alt text](https://i.ibb.co/gMnKBM6/download-31.png)"
      ]
    }
  ]
}